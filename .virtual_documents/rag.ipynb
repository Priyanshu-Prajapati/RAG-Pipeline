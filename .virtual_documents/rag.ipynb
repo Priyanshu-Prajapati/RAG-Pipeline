


from langchain_community.document_loaders import TextLoader
loader = TextLoader("speech.txt")


loader 


text_documents = loader.load()


text_documents


# Web based loader 
from langchain_community.document_loaders import WebBaseLoader
import bs4

# Load, Chunk and index the content of the Html page 
loader = WebBaseLoader(web_paths=("https://lilianweng.github.io/posts/2023-06-23-agent",),
                      bs_kwargs=dict(parse_only=bs4.SoupStrainer(
                          class_=("post-title", "post-content", "post-header")
                      )))

text_documents = loader.load()


text_documents


# PDF Reader 
from langchain_community.document_loaders import PyPDFLoader
loader = PyPDFLoader('Python_Refresher_2.pdf')


docs = loader.load()
docs





from langchain.text_splitter import RecursiveCharacterTextSplitter
text_splitter = RecursiveCharacterTextSplitter(chunk_size=1000, chunk_overlap=200)
documents = text_splitter.split_documents(docs)


documents[:5]


documents





from langchain_community.embeddings import OllamaEmbeddings
from langchain_community.vectorstores import Chroma
db = Chroma.from_documents(documents[:10], OllamaEmbeddings())





query = "String and String Methods"
result = db.similarity_search(query)


result[0].page_content



